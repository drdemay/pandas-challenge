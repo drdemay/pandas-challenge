{
 "cells": [
  {
   "cell_type": "markdown",
   "metadata": {},
   "source": [
    "### Note\n",
    "* Instructions have been included for each segment. You do not have to follow them exactly, but they are included to help you think through the steps."
   ]
  },
  {
   "cell_type": "code",
   "execution_count": null,
   "metadata": {},
   "outputs": [],
   "source": [
    "# Dependencies and Setup\n",
    "import pandas as pd\n",
    "import numpy as np\n",
    "\n",
    "# File to Load (Remember to Change These)\n",
    "purchase_data_load = \"Resources/purchase_data.csv\"\n",
    "\n",
    "# Read Purchasing File and store into Pandas data frame\n",
    "purchase_data = pd.read_csv(purchase_data_load)\n",
    "purchase_data.head(100)"
   ]
  },
  {
   "cell_type": "markdown",
   "metadata": {},
   "source": [
    "## Player Count"
   ]
  },
  {
   "cell_type": "markdown",
   "metadata": {},
   "source": [
    "* Display the total number of players"
   ]
  },
  {
   "cell_type": "code",
   "execution_count": null,
   "metadata": {},
   "outputs": [],
   "source": [
    "# count unique screenames\n",
    "count_of_players = purchase_data[\"SN\"].nunique()\n",
    "player_count = pd.DataFrame({\"Total Players\": [count_of_players]})\n",
    "player_count"
   ]
  },
  {
   "cell_type": "markdown",
   "metadata": {},
   "source": [
    "## Purchasing Analysis (Total)"
   ]
  },
  {
   "cell_type": "markdown",
   "metadata": {},
   "source": [
    "* Run basic calculations to obtain number of unique items, average price, etc.\n",
    "\n",
    "\n",
    "* Create a summary data frame to hold the results\n",
    "\n",
    "\n",
    "* Optional: give the displayed data cleaner formatting\n",
    "\n",
    "\n",
    "* Display the summary data frame\n"
   ]
  },
  {
   "cell_type": "code",
   "execution_count": null,
   "metadata": {
    "scrolled": true
   },
   "outputs": [],
   "source": [
    "unique_items_purchased = purchase_data[\"Item Name\"].nunique()\n",
    "average_purchase_price = purchase_data[\"Price\"].mean()\n",
    "number_of_orders = purchase_data[\"Purchase ID\"].nunique()\n",
    "total_revenue = purchase_data[\"Price\"].sum()"
   ]
  },
  {
   "cell_type": "code",
   "execution_count": null,
   "metadata": {},
   "outputs": [],
   "source": [
    "purchasing_summary = pd.DataFrame(\n",
    "    {\"Number of Unique Items\": [unique_items_purchased],\n",
    "    \"Average Purchase Price\": [average_purchase_price],\n",
    "    \"Total Number of Purchases\": [number_of_orders],\n",
    "    \"Total Revenue\": [total_revenue]})"
   ]
  },
  {
   "cell_type": "code",
   "execution_count": null,
   "metadata": {},
   "outputs": [],
   "source": [
    "purchasing_summary[\"Average Purchase Price\"] = purchasing_summary[\"Average Purchase Price\"].map(\"${0:,.2f}\".format)\n",
    "purchasing_summary[\"Total Revenue\"] = purchasing_summary[\"Total Revenue\"].map(\"${0:,.2f}\".format)\n",
    "purchasing_summary"
   ]
  },
  {
   "cell_type": "markdown",
   "metadata": {},
   "source": [
    "## Gender Demographics"
   ]
  },
  {
   "cell_type": "markdown",
   "metadata": {},
   "source": [
    "* Percentage and Count of Male Players\n",
    "\n",
    "* Percentage and Count of Female Players\n",
    "\n",
    "* Percentage and Count of Other / Non-Disclosed"
   ]
  },
  {
   "cell_type": "code",
   "execution_count": null,
   "metadata": {},
   "outputs": [],
   "source": [
    "#Dedupe purchase data \n",
    "purchase_data_demographics = purchase_data.drop_duplicates(subset=[\"SN\"])\n",
    "\n",
    "#create and calculate variables\n",
    "gender_count = purchase_data_demographics.groupby(\"Gender\").count()[\"Age\"]\n",
    "gender_percent_players = purchase_data_demographics.groupby(\"Gender\").count()[\"Age\"]/(count_of_players) * 100\n",
    "\n",
    "\n",
    "#put variables in a dataframe\n",
    "gender_demographics = pd.DataFrame({\"Total Count\": gender_count,\n",
    "                                    \"Percentage of Players\": gender_percent_players})\n",
    "\n",
    "#format values in dataframe\n",
    "gender_demographics[\"Percentage of Players\"] = gender_demographics[\"Percentage of Players\"].map(\"{0:,.2f}%\".format)\n",
    "\n",
    "#Display dataframe\n",
    "gender_demographics\n"
   ]
  },
  {
   "cell_type": "markdown",
   "metadata": {},
   "source": [
    "\n",
    "## Purchasing Analysis (Gender)"
   ]
  },
  {
   "cell_type": "markdown",
   "metadata": {},
   "source": [
    "* Run basic calculations to obtain purchase count, avg. purchase price, avg. purchase total per person etc. by gender\n",
    "\n",
    "\n",
    "* Create a summary data frame to hold the results\n",
    "\n",
    "\n",
    "* Optional: give the displayed data cleaner formatting\n",
    "\n",
    "\n",
    "* Display the summary data frame"
   ]
  },
  {
   "cell_type": "code",
   "execution_count": null,
   "metadata": {},
   "outputs": [],
   "source": [
    "#Run basic calculations with purchasing data and purchasing demographic data\n",
    "\n",
    "#create and calculate variables\n",
    "gender_purchase_count = purchase_data.groupby(\"Gender\").count()[\"Purchase ID\"]\n",
    "gender_average_purchase_price = purchase_data.groupby(\"Gender\").sum()[\"Price\"] / purchase_data[\"Gender\"].value_counts()\n",
    "gender_purchase_total = purchase_data.groupby(\"Gender\").sum()[\"Price\"]\n",
    "gender_average_purchase_per_person = purchase_data.groupby(\"Gender\").sum()[\"Price\"] / purchase_data_demographics.groupby(\"Gender\").count()[\"Age\"]\n",
    "\n",
    "#put variables in a dataframe\n",
    "gender_purchase_analysis = pd.DataFrame({\"Purchase Count\": gender_purchase_count,\n",
    "                                         \"Average Purchase Price\": gender_average_purchase_price,\n",
    "                                         \"Total Purchase Value\": gender_purchase_total,\n",
    "                                         \"Average Total Purchase Per Person\": gender_average_purchase_per_person})\n",
    "\n",
    "#format values in dataframe\n",
    "gender_purchase_analysis[\"Average Purchase Price\"] = gender_purchase_analysis[\"Average Purchase Price\"].map(\"${0:,.2f}\".format)\n",
    "gender_purchase_analysis[\"Total Purchase Value\"] = gender_purchase_analysis[\"Total Purchase Value\"].map(\"${0:,.2f}\".format)\n",
    "gender_purchase_analysis[\"Average Total Purchase Per Person\"] = gender_purchase_analysis[\"Average Total Purchase Per Person\"].map(\"${0:,.2f}\".format)\n",
    "\n",
    "#Display dataframe\n",
    "gender_purchase_analysis"
   ]
  },
  {
   "cell_type": "markdown",
   "metadata": {},
   "source": [
    "## Age Demographics"
   ]
  },
  {
   "cell_type": "markdown",
   "metadata": {},
   "source": [
    "* Establish bins for ages\n",
    "\n",
    "\n",
    "* Categorize the existing players using the age bins. Hint: use pd.cut()\n",
    "\n",
    "\n",
    "* Calculate the numbers and percentages by age group\n",
    "\n",
    "\n",
    "* Create a summary data frame to hold the results\n",
    "\n",
    "\n",
    "* Optional: round the percentage column to two decimal points\n",
    "\n",
    "\n",
    "* Display Age Demographics Table"
   ]
  },
  {
   "cell_type": "code",
   "execution_count": null,
   "metadata": {},
   "outputs": [],
   "source": [
    "# define the bins for age ranges\n",
    "age_bins = [0, 9.90, 14.90, 19.90, 24.90, 29.90, 34.90, 39.90, 99000.90]\n",
    "\n",
    "# Create the names for the bins (one label for each comma)\n",
    "age_labels = [\"<10\", \"10-14\", \"15-19\", \"20-24\", \"25-29\", \"30-34\", \"35-39\", \"40+\"]\n",
    "\n",
    "purchase_data_age_range = purchase_data_demographics\n",
    "purchase_data_age_range = pd.cut(purchase_data_age_range.loc[:,\"Age\"], age_bins, labels=age_labels)\n"
   ]
  },
  {
   "cell_type": "code",
   "execution_count": null,
   "metadata": {},
   "outputs": [],
   "source": [
    "# define variables\n",
    "age_demographics_total = purchase_data_age_range.value_counts()\n",
    "age_demographics_percentage = age_demographics_total / count_of_players * 100\n",
    "\n",
    "# create dataframe\n",
    "age_demographics = pd.DataFrame(\n",
    "    {\"Total Count\": age_demographics_total, \n",
    "     \"Percentage of Players\": age_demographics_percentage\n",
    "    })\n",
    "\n",
    "# format table and sort\n",
    "age_demographics[\"Percentage of Players\"] = age_demographics[\"Percentage of Players\"].map(\"{0:,.2f}%\".format)\n",
    "age_demographics.sort_index()"
   ]
  },
  {
   "cell_type": "markdown",
   "metadata": {},
   "source": [
    "## Purchasing Analysis (Age)"
   ]
  },
  {
   "cell_type": "markdown",
   "metadata": {},
   "source": [
    "* Bin the purchase_data data frame by age\n",
    "\n",
    "\n",
    "* Run basic calculations to obtain purchase count, avg. purchase price, avg. purchase total per person etc. in the table below\n",
    "\n",
    "\n",
    "* Create a summary data frame to hold the results\n",
    "\n",
    "\n",
    "* Optional: give the displayed data cleaner formatting\n",
    "\n",
    "\n",
    "* Display the summary data frame"
   ]
  },
  {
   "cell_type": "code",
   "execution_count": null,
   "metadata": {},
   "outputs": [],
   "source": [
    "# define the bins for age ranges\n",
    "age_bins = [0, 9.90, 14.90, 19.90, 24.90, 29.90, 34.90, 39.90, 99000.90]\n",
    "\n",
    "# Create the names for the bins (one label for each comma)\n",
    "age_labels = [\"<10\", \"10-14\", \"15-19\", \"20-24\", \"25-29\", \"30-34\", \"35-39\", \"40+\"]\n",
    "\n",
    "age_range_purchasing = purchase_data\n",
    "age_range_purchasing[\"Age Range\"] = pd.cut(purchase_data[\"Age\"], age_bins, labels=age_labels)\n",
    "\n",
    "age_range_purchasing = age_range_purchasing.groupby(\"Age Range\")"
   ]
  },
  {
   "cell_type": "code",
   "execution_count": null,
   "metadata": {},
   "outputs": [],
   "source": [
    "age_purchase_count = purchase_data.groupby(\"Age Range\").count()[\"Purchase ID\"]\n",
    "age_average_purchase_price = purchase_data.groupby(\"Age Range\").sum()[\"Price\"] / purchase_data[\"Age Range\"].value_counts()\n",
    "age_purchase_total = purchase_data.groupby(\"Age Range\").sum()[\"Price\"]\n",
    "age_average_purchase_per_person = purchase_data.groupby(\"Age Range\").sum()[\"Price\"] / (age_demographics_total)\n",
    "#put variables in a dataframe\n",
    "age_purchase_analysis = pd.DataFrame({\"Purchase Count\": age_purchase_count,\n",
    "                                      \"Average Purchase Price\": age_average_purchase_price,\n",
    "                                      \"Total Purchase Value\": age_purchase_total,\n",
    "                                      \"Average Total Purchase Per Person\": age_average_purchase_per_person\n",
    "                                        })\n",
    "\n",
    "#format values in dataframe\n",
    "age_purchase_analysis[\"Average Purchase Price\"] = age_purchase_analysis[\"Average Purchase Price\"].map(\"${0:,.2f}\".format)\n",
    "age_purchase_analysis[\"Total Purchase Value\"] = age_purchase_analysis[\"Total Purchase Value\"].map(\"${0:,.2f}\".format)\n",
    "age_purchase_analysis[\"Average Total Purchase Per Person\"] = age_purchase_analysis[\"Average Total Purchase Per Person\"].map(\"${0:,.2f}\".format)\n",
    "\n",
    "#Display dataframe\n",
    "age_purchase_analysis"
   ]
  },
  {
   "cell_type": "markdown",
   "metadata": {},
   "source": [
    "## Top Spenders"
   ]
  },
  {
   "cell_type": "markdown",
   "metadata": {},
   "source": [
    "* Run basic calculations to obtain the results in the table below\n",
    "\n",
    "\n",
    "* Create a summary data frame to hold the results\n",
    "\n",
    "\n",
    "* Sort the total purchase value column in descending order\n",
    "\n",
    "\n",
    "* Optional: give the displayed data cleaner formatting\n",
    "\n",
    "\n",
    "* Display a preview of the summary data frame\n",
    "\n"
   ]
  },
  {
   "cell_type": "code",
   "execution_count": null,
   "metadata": {},
   "outputs": [],
   "source": [
    "#Username with the highest amount spent\n",
    "#Retrieve Screen Name and Price columns\n",
    "top_spenders = purchase_data.groupby([\"SN\"])\n",
    "\n",
    "#add variables\n",
    "spender_item_count = top_spenders.count()[\"Price\"]\n",
    "spender_purchase_total = top_spenders.sum()[\"Price\"]\n",
    "spender_average_price = top_spenders.mean()[\"Price\"]\n",
    "\n",
    "\n",
    "#create dataframe\n",
    "top_spenders = pd.DataFrame({\"Purchase Count\": spender_item_count,\n",
    "                             \"Average Purchase Price\": spender_average_price,\n",
    "                             \"Total Purchase Value\": spender_purchase_total\n",
    "                            })\n",
    "\n",
    "#format columns and sort columns\n",
    "top_spenders[\"Average Purchase Price\"] = top_spenders[\"Average Purchase Price\"].map(\"${:,.2f}\".format)\n",
    "top_spenders[\"Total Purchase Value\"] = top_spenders[\"Total Purchase Value\"].map(\"${:,.2f}\".format)\n",
    "\n",
    "\n",
    "#sort and display dataframe\n",
    "top_spenders.sort_values(\"Total Purchase Value\", ascending=False).head()"
   ]
  },
  {
   "cell_type": "markdown",
   "metadata": {},
   "source": [
    "## Most Popular Items"
   ]
  },
  {
   "cell_type": "markdown",
   "metadata": {},
   "source": [
    "* Retrieve the Item ID, Item Name, and Item Price columns\n",
    "\n",
    "\n",
    "* Group by Item ID and Item Name. Perform calculations to obtain purchase count, item price, and total purchase value\n",
    "\n",
    "\n",
    "* Create a summary data frame to hold the results\n",
    "\n",
    "\n",
    "* Sort the purchase count column in descending order\n",
    "\n",
    "\n",
    "* Optional: give the displayed data cleaner formatting\n",
    "\n",
    "\n",
    "* Display a preview of the summary data frame\n",
    "\n"
   ]
  },
  {
   "cell_type": "code",
   "execution_count": null,
   "metadata": {},
   "outputs": [],
   "source": [
    "#Retrieve Item ID, Item Name, and Item Price columns\n",
    "popular_items = purchase_data.loc[:, [\"Item ID\", \"Item Name\", \"Price\"]]\n",
    "\n",
    "#add variables\n",
    "item_count = popular_items.groupby([\"Item ID\", \"Item Name\"]).count()[\"Price\"].rename(\"Purchase Count\")\n",
    "item_price = popular_items.groupby([\"Item ID\", \"Item Name\"]).min()[\"Price\"].rename(\"Item Price\")\n",
    "total_items_purchased = popular_items.groupby([\"Item ID\", \"Item Name\"]).sum()[\"Price\"].rename(\"Total Purchase Value\")\n",
    "\n",
    "#create dataframe\n",
    "popular_items = pd.DataFrame(\n",
    "    {\"Purchase Count\": item_count,\n",
    "     \"Item Price\": item_price,\n",
    "     \"Total Purchase Value\": total_items_purchased\n",
    "     })\n",
    "\n",
    "#format columns and sort columns\n",
    "popular_items[\"Item Price\"] = popular_items[\"Item Price\"].map(\"${:,.2f}\".format)\n",
    "popular_items[\"Total Purchase Value\"] = popular_items[\"Total Purchase Value\"].map(\"${:,.2f}\".format)\n",
    "popular_items.sort_values(\"Purchase Count\", inplace=True, ascending=False)\n",
    "\n",
    "#display dataframe\n",
    "popular_items.head()\n"
   ]
  },
  {
   "cell_type": "markdown",
   "metadata": {},
   "source": [
    "## Most Profitable Items"
   ]
  },
  {
   "cell_type": "markdown",
   "metadata": {},
   "source": [
    "* Sort the above table by total purchase value in descending order\n",
    "\n",
    "\n",
    "* Optional: give the displayed data cleaner formatting\n",
    "\n",
    "\n",
    "* Display a preview of the data frame\n",
    "\n"
   ]
  },
  {
   "cell_type": "code",
   "execution_count": null,
   "metadata": {},
   "outputs": [],
   "source": [
    "profitable_items = popular_items.loc[:, [\"Purchase Count\", \"Item Price\", \"Total Purchase Value\"]] \n",
    "profitable_items.sort_values([\"Total Purchase Value\"], ascending=False)\n",
    "profitable_items.head()"
   ]
  }
 ],
 "metadata": {
  "anaconda-cloud": {},
  "kernel_info": {
   "name": "python3"
  },
  "kernelspec": {
   "display_name": "Python 3",
   "language": "python",
   "name": "python3"
  },
  "language_info": {
   "codemirror_mode": {
    "name": "ipython",
    "version": 3
   },
   "file_extension": ".py",
   "mimetype": "text/x-python",
   "name": "python",
   "nbconvert_exporter": "python",
   "pygments_lexer": "ipython3",
   "version": "3.6.9"
  },
  "latex_envs": {
   "LaTeX_envs_menu_present": true,
   "autoclose": false,
   "autocomplete": true,
   "bibliofile": "biblio.bib",
   "cite_by": "apalike",
   "current_citInitial": 1,
   "eqLabelWithNumbers": true,
   "eqNumInitial": 1,
   "hotkeys": {
    "equation": "Ctrl-E",
    "itemize": "Ctrl-I"
   },
   "labels_anchors": false,
   "latex_user_defs": false,
   "report_style_numbering": false,
   "user_envs_cfg": false
  },
  "nteract": {
   "version": "0.2.0"
  }
 },
 "nbformat": 4,
 "nbformat_minor": 2
}
