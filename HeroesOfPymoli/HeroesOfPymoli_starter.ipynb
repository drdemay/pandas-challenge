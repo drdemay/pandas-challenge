{
 "cells": [
  {
   "cell_type": "markdown",
   "metadata": {},
   "source": [
    "### Note\n",
    "* Instructions have been included for each segment. You do not have to follow them exactly, but they are included to help you think through the steps."
   ]
  },
  {
   "cell_type": "code",
   "execution_count": 1,
   "metadata": {},
   "outputs": [
    {
     "data": {
      "text/html": [
       "<div>\n",
       "<style scoped>\n",
       "    .dataframe tbody tr th:only-of-type {\n",
       "        vertical-align: middle;\n",
       "    }\n",
       "\n",
       "    .dataframe tbody tr th {\n",
       "        vertical-align: top;\n",
       "    }\n",
       "\n",
       "    .dataframe thead th {\n",
       "        text-align: right;\n",
       "    }\n",
       "</style>\n",
       "<table border=\"1\" class=\"dataframe\">\n",
       "  <thead>\n",
       "    <tr style=\"text-align: right;\">\n",
       "      <th></th>\n",
       "      <th>Purchase ID</th>\n",
       "      <th>SN</th>\n",
       "      <th>Age</th>\n",
       "      <th>Gender</th>\n",
       "      <th>Item ID</th>\n",
       "      <th>Item Name</th>\n",
       "      <th>Price</th>\n",
       "    </tr>\n",
       "  </thead>\n",
       "  <tbody>\n",
       "    <tr>\n",
       "      <td>0</td>\n",
       "      <td>0</td>\n",
       "      <td>Lisim78</td>\n",
       "      <td>20</td>\n",
       "      <td>Male</td>\n",
       "      <td>108</td>\n",
       "      <td>Extraction, Quickblade Of Trembling Hands</td>\n",
       "      <td>3.53</td>\n",
       "    </tr>\n",
       "    <tr>\n",
       "      <td>1</td>\n",
       "      <td>1</td>\n",
       "      <td>Lisovynya38</td>\n",
       "      <td>40</td>\n",
       "      <td>Male</td>\n",
       "      <td>143</td>\n",
       "      <td>Frenzied Scimitar</td>\n",
       "      <td>1.56</td>\n",
       "    </tr>\n",
       "    <tr>\n",
       "      <td>2</td>\n",
       "      <td>2</td>\n",
       "      <td>Ithergue48</td>\n",
       "      <td>24</td>\n",
       "      <td>Male</td>\n",
       "      <td>92</td>\n",
       "      <td>Final Critic</td>\n",
       "      <td>4.88</td>\n",
       "    </tr>\n",
       "    <tr>\n",
       "      <td>3</td>\n",
       "      <td>3</td>\n",
       "      <td>Chamassasya86</td>\n",
       "      <td>24</td>\n",
       "      <td>Male</td>\n",
       "      <td>100</td>\n",
       "      <td>Blindscythe</td>\n",
       "      <td>3.27</td>\n",
       "    </tr>\n",
       "    <tr>\n",
       "      <td>4</td>\n",
       "      <td>4</td>\n",
       "      <td>Iskosia90</td>\n",
       "      <td>23</td>\n",
       "      <td>Male</td>\n",
       "      <td>131</td>\n",
       "      <td>Fury</td>\n",
       "      <td>1.44</td>\n",
       "    </tr>\n",
       "    <tr>\n",
       "      <td>...</td>\n",
       "      <td>...</td>\n",
       "      <td>...</td>\n",
       "      <td>...</td>\n",
       "      <td>...</td>\n",
       "      <td>...</td>\n",
       "      <td>...</td>\n",
       "      <td>...</td>\n",
       "    </tr>\n",
       "    <tr>\n",
       "      <td>95</td>\n",
       "      <td>95</td>\n",
       "      <td>Ilassast39</td>\n",
       "      <td>18</td>\n",
       "      <td>Male</td>\n",
       "      <td>164</td>\n",
       "      <td>Exiled Doomblade</td>\n",
       "      <td>1.63</td>\n",
       "    </tr>\n",
       "    <tr>\n",
       "      <td>96</td>\n",
       "      <td>96</td>\n",
       "      <td>Lisassala98</td>\n",
       "      <td>16</td>\n",
       "      <td>Male</td>\n",
       "      <td>56</td>\n",
       "      <td>Foul Titanium Battle Axe</td>\n",
       "      <td>2.92</td>\n",
       "    </tr>\n",
       "    <tr>\n",
       "      <td>97</td>\n",
       "      <td>97</td>\n",
       "      <td>Aiduecal76</td>\n",
       "      <td>20</td>\n",
       "      <td>Male</td>\n",
       "      <td>134</td>\n",
       "      <td>Undead Crusader</td>\n",
       "      <td>4.50</td>\n",
       "    </tr>\n",
       "    <tr>\n",
       "      <td>98</td>\n",
       "      <td>98</td>\n",
       "      <td>Chadossa89</td>\n",
       "      <td>23</td>\n",
       "      <td>Male</td>\n",
       "      <td>141</td>\n",
       "      <td>Persuasion</td>\n",
       "      <td>3.19</td>\n",
       "    </tr>\n",
       "    <tr>\n",
       "      <td>99</td>\n",
       "      <td>99</td>\n",
       "      <td>Haisrisuir60</td>\n",
       "      <td>23</td>\n",
       "      <td>Male</td>\n",
       "      <td>101</td>\n",
       "      <td>Final Critic</td>\n",
       "      <td>4.19</td>\n",
       "    </tr>\n",
       "  </tbody>\n",
       "</table>\n",
       "<p>100 rows × 7 columns</p>\n",
       "</div>"
      ],
      "text/plain": [
       "    Purchase ID             SN  Age Gender  Item ID  \\\n",
       "0             0        Lisim78   20   Male      108   \n",
       "1             1    Lisovynya38   40   Male      143   \n",
       "2             2     Ithergue48   24   Male       92   \n",
       "3             3  Chamassasya86   24   Male      100   \n",
       "4             4      Iskosia90   23   Male      131   \n",
       "..          ...            ...  ...    ...      ...   \n",
       "95           95     Ilassast39   18   Male      164   \n",
       "96           96    Lisassala98   16   Male       56   \n",
       "97           97     Aiduecal76   20   Male      134   \n",
       "98           98     Chadossa89   23   Male      141   \n",
       "99           99   Haisrisuir60   23   Male      101   \n",
       "\n",
       "                                    Item Name  Price  \n",
       "0   Extraction, Quickblade Of Trembling Hands   3.53  \n",
       "1                           Frenzied Scimitar   1.56  \n",
       "2                                Final Critic   4.88  \n",
       "3                                 Blindscythe   3.27  \n",
       "4                                        Fury   1.44  \n",
       "..                                        ...    ...  \n",
       "95                           Exiled Doomblade   1.63  \n",
       "96                   Foul Titanium Battle Axe   2.92  \n",
       "97                            Undead Crusader   4.50  \n",
       "98                                 Persuasion   3.19  \n",
       "99                               Final Critic   4.19  \n",
       "\n",
       "[100 rows x 7 columns]"
      ]
     },
     "execution_count": 1,
     "metadata": {},
     "output_type": "execute_result"
    }
   ],
   "source": [
    "# Dependencies and Setup\n",
    "import pandas as pd\n",
    "import numpy as np\n",
    "\n",
    "# File to Load (Remember to Change These)\n",
    "purchase_data_load = \"Resources/purchase_data.csv\"\n",
    "\n",
    "# Read Purchasing File and store into Pandas data frame\n",
    "purchase_data = pd.read_csv(purchase_data_load)\n",
    "purchase_data.head(100)"
   ]
  },
  {
   "cell_type": "markdown",
   "metadata": {},
   "source": [
    "## Player Count"
   ]
  },
  {
   "cell_type": "markdown",
   "metadata": {},
   "source": [
    "* Display the total number of players"
   ]
  },
  {
   "cell_type": "code",
   "execution_count": 2,
   "metadata": {},
   "outputs": [
    {
     "data": {
      "text/html": [
       "<div>\n",
       "<style scoped>\n",
       "    .dataframe tbody tr th:only-of-type {\n",
       "        vertical-align: middle;\n",
       "    }\n",
       "\n",
       "    .dataframe tbody tr th {\n",
       "        vertical-align: top;\n",
       "    }\n",
       "\n",
       "    .dataframe thead th {\n",
       "        text-align: right;\n",
       "    }\n",
       "</style>\n",
       "<table border=\"1\" class=\"dataframe\">\n",
       "  <thead>\n",
       "    <tr style=\"text-align: right;\">\n",
       "      <th></th>\n",
       "      <th>Total Players</th>\n",
       "    </tr>\n",
       "  </thead>\n",
       "  <tbody>\n",
       "    <tr>\n",
       "      <td>0</td>\n",
       "      <td>576</td>\n",
       "    </tr>\n",
       "  </tbody>\n",
       "</table>\n",
       "</div>"
      ],
      "text/plain": [
       "   Total Players\n",
       "0            576"
      ]
     },
     "execution_count": 2,
     "metadata": {},
     "output_type": "execute_result"
    }
   ],
   "source": [
    "# count unique screenames\n",
    "count_of_players = purchase_data[\"SN\"].nunique()\n",
    "player_count = pd.DataFrame({\"Total Players\": [count_of_players]})\n",
    "player_count"
   ]
  },
  {
   "cell_type": "markdown",
   "metadata": {},
   "source": [
    "## Purchasing Analysis (Total)"
   ]
  },
  {
   "cell_type": "markdown",
   "metadata": {},
   "source": [
    "* Run basic calculations to obtain number of unique items, average price, etc.\n",
    "\n",
    "\n",
    "* Create a summary data frame to hold the results\n",
    "\n",
    "\n",
    "* Optional: give the displayed data cleaner formatting\n",
    "\n",
    "\n",
    "* Display the summary data frame\n"
   ]
  },
  {
   "cell_type": "code",
   "execution_count": 3,
   "metadata": {
    "scrolled": true
   },
   "outputs": [],
   "source": [
    "unique_items_purchased = purchase_data[\"Item Name\"].nunique()\n",
    "average_purchase_price = purchase_data[\"Price\"].mean()\n",
    "number_of_orders = purchase_data[\"Purchase ID\"].nunique()\n",
    "total_revenue = purchase_data[\"Price\"].sum()"
   ]
  },
  {
   "cell_type": "code",
   "execution_count": 4,
   "metadata": {},
   "outputs": [],
   "source": [
    "purchasing_summary = pd.DataFrame(\n",
    "    {\"Number of Unique Items\": [unique_items_purchased],\n",
    "    \"Average Purchase Price\": [average_purchase_price],\n",
    "    \"Total Number of Purchases\": [number_of_orders],\n",
    "    \"Total Revenue\": [total_revenue]})"
   ]
  },
  {
   "cell_type": "code",
   "execution_count": 5,
   "metadata": {},
   "outputs": [
    {
     "data": {
      "text/html": [
       "<div>\n",
       "<style scoped>\n",
       "    .dataframe tbody tr th:only-of-type {\n",
       "        vertical-align: middle;\n",
       "    }\n",
       "\n",
       "    .dataframe tbody tr th {\n",
       "        vertical-align: top;\n",
       "    }\n",
       "\n",
       "    .dataframe thead th {\n",
       "        text-align: right;\n",
       "    }\n",
       "</style>\n",
       "<table border=\"1\" class=\"dataframe\">\n",
       "  <thead>\n",
       "    <tr style=\"text-align: right;\">\n",
       "      <th></th>\n",
       "      <th>Number of Unique Items</th>\n",
       "      <th>Average Purchase Price</th>\n",
       "      <th>Total Number of Purchases</th>\n",
       "      <th>Total Revenue</th>\n",
       "    </tr>\n",
       "  </thead>\n",
       "  <tbody>\n",
       "    <tr>\n",
       "      <td>0</td>\n",
       "      <td>179</td>\n",
       "      <td>$3.05</td>\n",
       "      <td>780</td>\n",
       "      <td>$2,379.77</td>\n",
       "    </tr>\n",
       "  </tbody>\n",
       "</table>\n",
       "</div>"
      ],
      "text/plain": [
       "   Number of Unique Items Average Purchase Price  Total Number of Purchases  \\\n",
       "0                     179                  $3.05                        780   \n",
       "\n",
       "  Total Revenue  \n",
       "0     $2,379.77  "
      ]
     },
     "execution_count": 5,
     "metadata": {},
     "output_type": "execute_result"
    }
   ],
   "source": [
    "purchasing_summary[\"Average Purchase Price\"] = purchasing_summary[\"Average Purchase Price\"].map(\n",
    "    \"${0:,.2f}\".format)\n",
    "purchasing_summary[\"Total Revenue\"] = purchasing_summary[\"Total Revenue\"].map(\n",
    "    \"${0:,.2f}\".format)\n",
    "purchasing_summary"
   ]
  },
  {
   "cell_type": "markdown",
   "metadata": {},
   "source": [
    "## Gender Demographics"
   ]
  },
  {
   "cell_type": "markdown",
   "metadata": {},
   "source": [
    "* Percentage and Count of Male Players\n",
    "\n",
    "* Percentage and Count of Female Players\n",
    "\n",
    "* Percentage and Count of Other / Non-Disclosed"
   ]
  },
  {
   "cell_type": "code",
   "execution_count": 43,
   "metadata": {},
   "outputs": [],
   "source": [
    "purchase_data_demographics = purchase_data.drop_duplicates(subset=[\"SN\"])"
   ]
  },
  {
   "cell_type": "code",
   "execution_count": 44,
   "metadata": {},
   "outputs": [
    {
     "data": {
      "text/plain": [
       "(484, 81, 11)"
      ]
     },
     "execution_count": 44,
     "metadata": {},
     "output_type": "execute_result"
    }
   ],
   "source": [
    "male_count = purchase_data_demographics[\"Gender\"].value_counts()[\"Male\"]\n",
    "female_count = purchase_data_demographics[\"Gender\"].value_counts()[\"Female\"]\n",
    "other_gender_count = purchase_data_demographics[\"Gender\"].value_counts()[\"Other / Non-Disclosed\"]\n",
    "\n",
    "(male_count, female_count, other_gender_count)"
   ]
  },
  {
   "cell_type": "code",
   "execution_count": 45,
   "metadata": {},
   "outputs": [
    {
     "data": {
      "text/plain": [
       "(84.02777777777779, 14.0625, 1.9097222222222223)"
      ]
     },
     "execution_count": 45,
     "metadata": {},
     "output_type": "execute_result"
    }
   ],
   "source": [
    "gender_percent = count_of_players\n",
    "\n",
    "male_percent = (male_count/count_of_players) * 100\n",
    "female_percent = (female_count/count_of_players) * 100\n",
    "other_gender_percent = (other_gender_count/count_of_players) * 100\n",
    "\n",
    "(male_percent, female_percent, other_gender_percent)"
   ]
  },
  {
   "cell_type": "code",
   "execution_count": 46,
   "metadata": {},
   "outputs": [],
   "source": [
    "gender_demographics = pd.DataFrame(\n",
    "    {\"Number of Male Players\": [male_count],\n",
    "     \"% Male Players\": [male_percent],\n",
    "     \"Number of Female Players\": [female_count],\n",
    "     \"% Female Players\": [female_percent],\n",
    "     \"Number of Other / Non-Disclosed Players\": [other_gender_count],\n",
    "     \"% of Other / Non-Disclosed Players\": [other_gender_percent]})"
   ]
  },
  {
   "cell_type": "code",
   "execution_count": 47,
   "metadata": {},
   "outputs": [
    {
     "data": {
      "text/html": [
       "<div>\n",
       "<style scoped>\n",
       "    .dataframe tbody tr th:only-of-type {\n",
       "        vertical-align: middle;\n",
       "    }\n",
       "\n",
       "    .dataframe tbody tr th {\n",
       "        vertical-align: top;\n",
       "    }\n",
       "\n",
       "    .dataframe thead th {\n",
       "        text-align: right;\n",
       "    }\n",
       "</style>\n",
       "<table border=\"1\" class=\"dataframe\">\n",
       "  <thead>\n",
       "    <tr style=\"text-align: right;\">\n",
       "      <th></th>\n",
       "      <th>Number of Male Players</th>\n",
       "      <th>% Male Players</th>\n",
       "      <th>Number of Female Players</th>\n",
       "      <th>% Female Players</th>\n",
       "      <th>Number of Other / Non-Disclosed Players</th>\n",
       "      <th>% of Other / Non-Disclosed Players</th>\n",
       "    </tr>\n",
       "  </thead>\n",
       "  <tbody>\n",
       "    <tr>\n",
       "      <td>0</td>\n",
       "      <td>484</td>\n",
       "      <td>84.03%</td>\n",
       "      <td>81</td>\n",
       "      <td>14.06%</td>\n",
       "      <td>11</td>\n",
       "      <td>1.91%</td>\n",
       "    </tr>\n",
       "  </tbody>\n",
       "</table>\n",
       "</div>"
      ],
      "text/plain": [
       "   Number of Male Players % Male Players  Number of Female Players  \\\n",
       "0                     484         84.03%                        81   \n",
       "\n",
       "  % Female Players  Number of Other / Non-Disclosed Players  \\\n",
       "0           14.06%                                       11   \n",
       "\n",
       "  % of Other / Non-Disclosed Players  \n",
       "0                              1.91%  "
      ]
     },
     "execution_count": 47,
     "metadata": {},
     "output_type": "execute_result"
    }
   ],
   "source": [
    "gender_demographics[\"% Male Players\"] = gender_demographics[\"% Male Players\"].map(\n",
    "    \"{0:,.2f}%\".format)\n",
    "gender_demographics[\"% Female Players\"] = gender_demographics[\"% Female Players\"].map(\n",
    "    \"{0:,.2f}%\".format)\n",
    "gender_demographics[\"% of Other / Non-Disclosed Players\"] = gender_demographics[\"% of Other / Non-Disclosed Players\"].map(\n",
    "    \"{0:,.2f}%\".format)\n",
    "gender_demographics"
   ]
  },
  {
   "cell_type": "code",
   "execution_count": 60,
   "metadata": {},
   "outputs": [
    {
     "data": {
      "text/html": [
       "<div>\n",
       "<style scoped>\n",
       "    .dataframe tbody tr th:only-of-type {\n",
       "        vertical-align: middle;\n",
       "    }\n",
       "\n",
       "    .dataframe tbody tr th {\n",
       "        vertical-align: top;\n",
       "    }\n",
       "\n",
       "    .dataframe thead th {\n",
       "        text-align: right;\n",
       "    }\n",
       "</style>\n",
       "<table border=\"1\" class=\"dataframe\">\n",
       "  <thead>\n",
       "    <tr style=\"text-align: right;\">\n",
       "      <th></th>\n",
       "      <th>Male</th>\n",
       "      <th>Female</th>\n",
       "    </tr>\n",
       "  </thead>\n",
       "  <tbody>\n",
       "    <tr>\n",
       "      <td>0</td>\n",
       "      <td>484.000000</td>\n",
       "      <td>81.0000</td>\n",
       "    </tr>\n",
       "    <tr>\n",
       "      <td>1</td>\n",
       "      <td>84.027778</td>\n",
       "      <td>14.0625</td>\n",
       "    </tr>\n",
       "  </tbody>\n",
       "</table>\n",
       "</div>"
      ],
      "text/plain": [
       "         Male   Female\n",
       "0  484.000000  81.0000\n",
       "1   84.027778  14.0625"
      ]
     },
     "execution_count": 60,
     "metadata": {},
     "output_type": "execute_result"
    }
   ],
   "source": [
    "purchase_data_demographics = purchase_data.drop_duplicates(subset=[\"SN\", \"Age\", \"Gender\"])\n",
    "male_count = purchase_data_demographics[\"Gender\"].value_counts()[\"Male\"]\n",
    "female_count = purchase_data_demographics[\"Gender\"].value_counts()[\"Female\"]\n",
    "other_gender_count = purchase_data_demographics[\"Gender\"].value_counts()[\"Other / Non-Disclosed\"]\n",
    "male_percent = (male_count/count_of_players) * 100\n",
    "female_percent = (female_count/count_of_players) * 100\n",
    "other_gender_percent = (other_gender_count/count_of_players) * 100\n",
    "\n",
    "\n",
    "\n",
    "gender_demographics = pd.DataFrame({\"Male\": [male_count, male_percent],\n",
    "     \"Female\": [female_count, female_percent]})\n",
    "\n",
    "#gender_demographics.columns = [\"Total Count\", \"Percentage of Players\"]\n",
    "#gender_demographics.index = [\"Male\", \"Female\", \"Other / Non-Disclosed\"]\n",
    "\n",
    "\n",
    "\n",
    "gender_demographics"
   ]
  },
  {
   "cell_type": "code",
   "execution_count": 90,
   "metadata": {},
   "outputs": [
    {
     "data": {
      "text/html": [
       "<div>\n",
       "<style scoped>\n",
       "    .dataframe tbody tr th:only-of-type {\n",
       "        vertical-align: middle;\n",
       "    }\n",
       "\n",
       "    .dataframe tbody tr th {\n",
       "        vertical-align: top;\n",
       "    }\n",
       "\n",
       "    .dataframe thead th {\n",
       "        text-align: right;\n",
       "    }\n",
       "</style>\n",
       "<table border=\"1\" class=\"dataframe\">\n",
       "  <thead>\n",
       "    <tr style=\"text-align: right;\">\n",
       "      <th></th>\n",
       "      <th>Total Count</th>\n",
       "      <th>Percentage of Players</th>\n",
       "    </tr>\n",
       "    <tr>\n",
       "      <th>Gender</th>\n",
       "      <th></th>\n",
       "      <th></th>\n",
       "    </tr>\n",
       "  </thead>\n",
       "  <tbody>\n",
       "    <tr>\n",
       "      <td>Female</td>\n",
       "      <td>81</td>\n",
       "      <td>14.06%</td>\n",
       "    </tr>\n",
       "    <tr>\n",
       "      <td>Male</td>\n",
       "      <td>484</td>\n",
       "      <td>84.03%</td>\n",
       "    </tr>\n",
       "    <tr>\n",
       "      <td>Other / Non-Disclosed</td>\n",
       "      <td>11</td>\n",
       "      <td>1.91%</td>\n",
       "    </tr>\n",
       "  </tbody>\n",
       "</table>\n",
       "</div>"
      ],
      "text/plain": [
       "                       Total Count Percentage of Players\n",
       "Gender                                                  \n",
       "Female                          81                14.06%\n",
       "Male                           484                84.03%\n",
       "Other / Non-Disclosed           11                 1.91%"
      ]
     },
     "execution_count": 90,
     "metadata": {},
     "output_type": "execute_result"
    }
   ],
   "source": [
    "#purchase_data_gender_count = purchase_data_demographics.loc[:, [\"Gender\", \"Purchase ID\"]]\n",
    "#purchase_data_gender_group = purchase_data_demographics.groupby([\"Gender\"]).count[\"Purchase ID\"].rename(\"Total Count\")\n",
    "\n",
    "#purchase_data_gender_group\n",
    "\n",
    "#purchase_data.gender.count()\n",
    "\n",
    "purchase_data_gender_count = purchase_data_demographics.groupby(\"Gender\").count()[\"Age\"].rename(\"Total Count\")\n",
    "purchase_data_percent_players = purchase_data_demographics.groupby(\"Gender\").count()[\"Age\"]/(count_of_players) * 100\n",
    "\n",
    "gender_demographics = pd.DataFrame({\"Total Count\": purchase_data_gender_count,\n",
    "     \"Percentage of Players\": purchase_data_percent_players})\n",
    "\n",
    "gender_demographics[\"Percentage of Players\"] = gender_demographics[\"Percentage of Players\"].map(\n",
    "    \"{0:,.2f}%\".format)\n",
    "gender_demographics\n",
    "\n",
    "\n",
    "#Username with the highest amount spent\n",
    "#Retrieve Item ID, Item Name, and Item Price columns\n",
    "#top_spenders = purchase_data.loc[:, [\"SN\", \"Item Name\", \"Price\"]]\n",
    "\n",
    "#add variables\n",
    "#item_count = popular_items.groupby([\"Item ID\", \"Item Name\"]).count()[\"Price\"].rename(\"Purchase Count\")\n",
    "#item_price = popular_items.groupby([\"Item ID\", \"Item Name\"])[\"Price\"]\n",
    "#total_items_purchased = popular_items.groupby([\"Item ID\", \"Item Name\"]).sum()[\"Price\"].rename(\"Total Purchase Value\")\n",
    "\n",
    "#total_items_purchased\n",
    "\n",
    "#popular_items = purchase_data.loc[:, [\"Item ID\", \"Item Name\", \"Price\"]]\n",
    "\n",
    "#add variables\n",
    "#item_count = popular_items.groupby([\"Item ID\", \"Item Name\"]).count()[\"Price\"].rename(\"Purchase Count\")\n",
    "#item_price = popular_items.groupby([\"Item ID\", \"Item Name\"]).sum()[\"Price\"]\n",
    "#total_items_purchased = popular_items.groupby([\"Item ID\", \"Item Name\"]).sum()[\"Price\"].rename(\"Total Purchase Value\")\n",
    "#popular_items"
   ]
  },
  {
   "cell_type": "code",
   "execution_count": 97,
   "metadata": {},
   "outputs": [
    {
     "data": {
      "text/html": [
       "<div>\n",
       "<style scoped>\n",
       "    .dataframe tbody tr th:only-of-type {\n",
       "        vertical-align: middle;\n",
       "    }\n",
       "\n",
       "    .dataframe tbody tr th {\n",
       "        vertical-align: top;\n",
       "    }\n",
       "\n",
       "    .dataframe thead th {\n",
       "        text-align: right;\n",
       "    }\n",
       "</style>\n",
       "<table border=\"1\" class=\"dataframe\">\n",
       "  <thead>\n",
       "    <tr style=\"text-align: right;\">\n",
       "      <th></th>\n",
       "      <th>Total Count</th>\n",
       "      <th>Percentage of Players</th>\n",
       "    </tr>\n",
       "    <tr>\n",
       "      <th>Gender</th>\n",
       "      <th></th>\n",
       "      <th></th>\n",
       "    </tr>\n",
       "  </thead>\n",
       "  <tbody>\n",
       "    <tr>\n",
       "      <td>Female</td>\n",
       "      <td>81</td>\n",
       "      <td>14.06%</td>\n",
       "    </tr>\n",
       "    <tr>\n",
       "      <td>Male</td>\n",
       "      <td>484</td>\n",
       "      <td>84.03%</td>\n",
       "    </tr>\n",
       "    <tr>\n",
       "      <td>Other / Non-Disclosed</td>\n",
       "      <td>11</td>\n",
       "      <td>1.91%</td>\n",
       "    </tr>\n",
       "  </tbody>\n",
       "</table>\n",
       "</div>"
      ],
      "text/plain": [
       "                       Total Count Percentage of Players\n",
       "Gender                                                  \n",
       "Female                          81                14.06%\n",
       "Male                           484                84.03%\n",
       "Other / Non-Disclosed           11                 1.91%"
      ]
     },
     "execution_count": 97,
     "metadata": {},
     "output_type": "execute_result"
    }
   ],
   "source": [
    "#Dedupe purchase data \n",
    "purchase_data_demographics = purchase_data.drop_duplicates(subset=[\"SN\"])\n",
    "\n",
    "#create and calculate variables\n",
    "purchase_data_gender_count = purchase_data_demographics.groupby(\"Gender\").count()[\"Age\"].rename(\"Total Count\")\n",
    "purchase_data_percent_players = purchase_data_demographics.groupby(\"Gender\").count()[\"Age\"]/(count_of_players) * 100\n",
    "\n",
    "#put variables in a dataframe\n",
    "gender_demographics = pd.DataFrame({\"Total Count\": purchase_data_gender_count,\n",
    "     \"Percentage of Players\": purchase_data_percent_players})\n",
    "\n",
    "#format values in dataframe\n",
    "gender_demographics[\"Percentage of Players\"] = gender_demographics[\"Percentage of Players\"].map(\n",
    "    \"{0:,.2f}%\".format)\n",
    "\n",
    "#Display dataframe\n",
    "gender_demographics\n"
   ]
  },
  {
   "cell_type": "markdown",
   "metadata": {},
   "source": [
    "\n",
    "## Purchasing Analysis (Gender)"
   ]
  },
  {
   "cell_type": "markdown",
   "metadata": {},
   "source": [
    "* Run basic calculations to obtain purchase count, avg. purchase price, avg. purchase total per person etc. by gender\n",
    "\n",
    "\n",
    "* Create a summary data frame to hold the results\n",
    "\n",
    "\n",
    "* Optional: give the displayed data cleaner formatting\n",
    "\n",
    "\n",
    "* Display the summary data frame"
   ]
  },
  {
   "cell_type": "code",
   "execution_count": null,
   "metadata": {},
   "outputs": [],
   "source": [
    "#Run basic calculations with purchasing data, not demographic data\n",
    "count_purchase_male =  purchase_data[\"Gender\"].value_counts()[\"Male\"]\n",
    "count_purchase_female = purchase_data[\"Gender\"].value_counts()[\"Female\"]\n",
    "count_purchase_othergender = purchase_data[\"Gender\"].value_counts()[\"Other / Non-Disclosed\"]\n",
    "average_purchase_price_male = purchase_data[purchase_data[\"Gender\"]==\"Male\"][\"Price\"].sum() / purchase_data[\"Gender\"].value_counts()[\"Male\"] \n",
    "average_purchase_price_female = purchase_data[purchase_data[\"Gender\"]==\"Female\"][\"Price\"].sum() / purchase_data[\"Gender\"].value_counts()[\"Female\"] \n",
    "average_purchase_price_othergender = purchase_data[purchase_data[\"Gender\"]==\"Other / Non-Disclosed\"][\"Price\"].sum() / purchase_data[\"Gender\"].value_counts()[\"Other / Non-Disclosed\"] \n",
    "total_purchase_male = purchase_data[purchase_data[\"Gender\"]==\"Male\"][\"Price\"].sum()\n",
    "total_purchase_female = purchase_data[purchase_data[\"Gender\"]==\"Female\"][\"Price\"].sum() \n",
    "total_purchase_othergender = purchase_data[purchase_data[\"Gender\"]==\"Other / Non-Disclosed\"][\"Price\"].sum() \n",
    "average_purchase_total_male = (purchase_data[purchase_data[\"Gender\"]==\"Male\"][\"Price\"].sum() + purchase_data[\"Gender\"].value_counts()[\"Male\"]) / purchase_data[\"Gender\"].value_counts()[\"Male\"] \n",
    "average_purchase_total_female = (purchase_data[purchase_data[\"Gender\"]==\"Female\"][\"Price\"].sum() + purchase_data[\"Gender\"].value_counts()[\"Female\"]) / purchase_data[\"Gender\"].value_counts()[\"Female\"] \n",
    "average_purchase_total_othergender = (purchase_data[purchase_data[\"Gender\"]==\"Other / Non-Disclosed\"][\"Price\"].sum() + purchase_data[\"Gender\"].value_counts()[\"Other / Non-Disclosed\"]) / purchase_data[\"Gender\"].value_counts()[\"Other / Non-Disclosed\"]"
   ]
  },
  {
   "cell_type": "code",
   "execution_count": null,
   "metadata": {},
   "outputs": [],
   "source": [
    "#Create dataframe\n",
    "gender_purchasing = pd.DataFrame(\n",
    "    {\"Male Number of Purchases\": [count_purchase_male], \n",
    "     \"Male Average Purchase Price\": [average_purchase_price_male],\n",
    "     \"Male Total Purchase Value\": [total_purchase_male],\n",
    "     \"Male Average Purchase Total Per Person\": [average_purchase_total_male],\n",
    "     \"Female Number of Purchases\": [count_purchase_female],\n",
    "     \"Female Average Purchase Price\": [average_purchase_price_female],     \n",
    "     \"Female Total Purchase Value\": [total_purchase_female],\n",
    "     \"Female Average Purchase Total Per Person\": [average_purchase_total_female],\n",
    "     \"Other / Non-Disclosed Gender Number of Purchases\": [count_purchase_othergender],\n",
    "     \"Other / Non-Disclosed Gender Average Purchase Price\": [average_purchase_price_othergender],\n",
    "     \"Other / Non-Disclosed Total Purchase Value\": [total_purchase_othergender],\n",
    "     \"Other / Non-Disclosed Average Purchase Total Per Person\": [average_purchase_total_othergender]\n",
    "    })"
   ]
  },
  {
   "cell_type": "code",
   "execution_count": null,
   "metadata": {},
   "outputs": [],
   "source": [
    "#Clean up formatting and display dataframe\n",
    "gender_purchasing[\"Male Average Purchase Price\"] = gender_purchasing[\"Male Average Purchase Price\"].map(\"${0:,.2f}\".format)\n",
    "gender_purchasing[\"Male Total Purchase Value\"] = gender_purchasing[\"Male Total Purchase Value\"].map(\"${0:,.2f}\".format)\n",
    "gender_purchasing[\"Male Average Purchase Total Per Person\"] = gender_purchasing[\"Male Average Purchase Total Per Person\"].map(\"${0:,.2f}\".format)\n",
    "gender_purchasing[\"Female Average Purchase Price\"] = gender_purchasing[\"Female Average Purchase Price\"].map(\"${0:,.2f}\".format)    \n",
    "gender_purchasing[\"Female Total Purchase Value\"] = gender_purchasing[\"Female Total Purchase Value\"].map(\"${0:,.2f}\".format)\n",
    "gender_purchasing[\"Female Average Purchase Total Per Person\"] = gender_purchasing[\"Female Average Purchase Total Per Person\"].map(\"${0:,.2f}\".format)\n",
    "gender_purchasing[\"Other / Non-Disclosed Gender Average Purchase Price\"] = gender_purchasing[\"Other / Non-Disclosed Gender Average Purchase Price\"].map(\"${0:,.2f}\".format)\n",
    "gender_purchasing[\"Other / Non-Disclosed Total Purchase Value\"] = gender_purchasing[\"Other / Non-Disclosed Total Purchase Value\"].map(\"${0:,.2f}\".format)\n",
    "gender_purchasing[\"Other / Non-Disclosed Average Purchase Total Per Person\"] = gender_purchasing[\"Other / Non-Disclosed Average Purchase Total Per Person\"].map(\"${0:,.2f}\".format)\n",
    "# Average purchase total by gender needs to be rounded...\n",
    "gender_purchasing"
   ]
  },
  {
   "cell_type": "markdown",
   "metadata": {},
   "source": [
    "## Age Demographics"
   ]
  },
  {
   "cell_type": "markdown",
   "metadata": {},
   "source": [
    "* Establish bins for ages\n",
    "\n",
    "\n",
    "* Categorize the existing players using the age bins. Hint: use pd.cut()\n",
    "\n",
    "\n",
    "* Calculate the numbers and percentages by age group\n",
    "\n",
    "\n",
    "* Create a summary data frame to hold the results\n",
    "\n",
    "\n",
    "* Optional: round the percentage column to two decimal points\n",
    "\n",
    "\n",
    "* Display Age Demographics Table\n",
    "\n",
    "*The below each broken into bins of 4 years (i.e. <10, 10-14, 15-19, etc.)\n",
    "\n",
    "*Purchase Count\n",
    "*Average Purchase Price\n",
    "*Total Purchase Value\n",
    "*Average Purchase Total per Person by Age Group"
   ]
  },
  {
   "cell_type": "code",
   "execution_count": null,
   "metadata": {},
   "outputs": [],
   "source": [
    "# define the bins for age ranges\n",
    "age_bins = [0, 9.90, 14.90, 19.90, 24.90, 29.90, 34.90, 39.90, 99000.90]\n",
    "\n",
    "# Create the names for the bins (one label for each comma)\n",
    "age_labels = [\"<10\", \"10-14\", \"15-19\", \"20-24\", \"25-29\", \"30-34\", \"35-39\", \"40+\"]\n",
    "\n",
    "purchase_data_age_range = purchase_data_demographics\n",
    "purchase_data_age_range = pd.cut(purchase_data_age_range.loc[:,\"Age\"], age_bins, labels=age_labels)\n"
   ]
  },
  {
   "cell_type": "code",
   "execution_count": null,
   "metadata": {},
   "outputs": [],
   "source": [
    "age_demographics_total = purchase_data_age_range.value_counts()\n",
    "age_demographics_percentage = age_demographics_total / count_of_players * 100\n",
    "\n",
    "\n",
    "age_demographics = pd.DataFrame(\n",
    "    {\"Total Count\": age_demographics_total, \n",
    "     \"Percentage of Players\": age_demographics_percentage\n",
    "    })\n",
    "age_demographics[\"Percentage of Players\"] = age_demographics[\"Percentage of Players\"].map(\"{0:,.2f}%\".format)\n",
    "age_demographics.sort_index()"
   ]
  },
  {
   "cell_type": "markdown",
   "metadata": {},
   "source": [
    "## Purchasing Analysis (Age)"
   ]
  },
  {
   "cell_type": "markdown",
   "metadata": {},
   "source": [
    "* Bin the purchase_data data frame by age\n",
    "\n",
    "\n",
    "* Run basic calculations to obtain purchase count, avg. purchase price, avg. purchase total per person etc. in the table below\n",
    "\n",
    "\n",
    "* Create a summary data frame to hold the results\n",
    "\n",
    "\n",
    "* Optional: give the displayed data cleaner formatting\n",
    "\n",
    "\n",
    "* Display the summary data frame"
   ]
  },
  {
   "cell_type": "code",
   "execution_count": null,
   "metadata": {},
   "outputs": [],
   "source": [
    "# define the bins for age ranges\n",
    "age_bins = [0, 9.90, 14.90, 19.90, 24.90, 29.90, 34.90, 39.90, 99000.90]\n",
    "\n",
    "# Create the names for the bins (one label for each comma)\n",
    "age_labels = [\"<10\", \"10-14\", \"15-19\", \"20-24\", \"25-29\", \"30-34\", \"35-39\", \"40+\"]\n",
    "\n",
    "purchase_data_age_purchasing = purchase_data\n",
    "purchase_data_age_purchasing[\"Age Range\"] = pd.cut(purchase_data[\"Age\"], age_bins, labels=age_labels)\n",
    "purchase_data_age_purchasing\n"
   ]
  },
  {
   "cell_type": "code",
   "execution_count": null,
   "metadata": {},
   "outputs": [],
   "source": [
    "purchase_data_age_purchasing = purchase_data_age_purchasing.groupby(\"Age Range\")\n",
    "purchase_data_age_purchasing.max()\n",
    "#purchasing_summary[\"Total Revenue\"] = purchasing_summary[\"Total Revenue\"].map(\"${0:,.2f}\".format)\n",
    "#Run basic calculations with purchasing data, not demographic data\n",
    "#count_purchase_age = purchase_data_age_purchasing[(purchase_data_age_purchasing[\"Age Range\"][\"Purchase ID\"].nunique())\n",
    "#average_purchase_price_age = purchase_data[purchase_data[\"Gender\"]==\"Male\"][\"Price\"].sum() / purchase_data[\"Gender\"].value_counts()[\"Male\"] \n",
    "#total_purchase_age = purchase_data[\"Price\"].sum()\n",
    "#average_purchase_total_age = (purchase_data[purchase_data[\"Gender\"]==\"Male\"][\"Price\"].sum() + purchase_data[\"Gender\"].value_counts()[\"Male\"]) / purchase_data[\"Gender\"].value_counts()[\"Male\"] \n",
    "#count_purchase_age\n",
    "                                                  \n",
    "# purchase_data_age_purchasing.sort_index()"
   ]
  },
  {
   "cell_type": "code",
   "execution_count": null,
   "metadata": {},
   "outputs": [],
   "source": [
    "purchasing_data_age_analysis = pd.DataFrame(\n",
    "    {\"Age Ranges\": purchase_data_age_purchasing[\"Age Range\"], \n",
    "     \"Purchase Count\": purchase_data_age_purchasing[\"Age Range\"], \n",
    "#     \"Avenue Purchase Price\": ,\n",
    " #    \"Total Purchase Value\": , \n",
    "  #   \"Average Total Purchase per Person\"\n",
    "    })\n",
    "purchasing_data_age_analysis"
   ]
  },
  {
   "cell_type": "markdown",
   "metadata": {},
   "source": [
    "## Top Spenders"
   ]
  },
  {
   "cell_type": "markdown",
   "metadata": {},
   "source": [
    "* Run basic calculations to obtain the results in the table below\n",
    "\n",
    "\n",
    "* Create a summary data frame to hold the results\n",
    "\n",
    "\n",
    "* Sort the total purchase value column in descending order\n",
    "\n",
    "\n",
    "* Optional: give the displayed data cleaner formatting\n",
    "\n",
    "\n",
    "* Display a preview of the summary data frame\n",
    "\n"
   ]
  },
  {
   "cell_type": "code",
   "execution_count": 31,
   "metadata": {},
   "outputs": [
    {
     "data": {
      "text/plain": [
       "Item ID  Item Name                      \n",
       "0        Splinter                            5.12\n",
       "1        Crucifer                            9.78\n",
       "2        Verdict                            14.88\n",
       "3        Phantomlight                       14.94\n",
       "4        Bloodlord's Fetish                  8.50\n",
       "                                            ...  \n",
       "179      Wolf, Promise of the Moonwalker    26.88\n",
       "180      Stormcaller                         3.36\n",
       "181      Reaper's Toll                       8.30\n",
       "182      Toothpick                          12.09\n",
       "183      Dragon's Greatsword                 3.27\n",
       "Name: Total Purchase Value, Length: 183, dtype: float64"
      ]
     },
     "execution_count": 31,
     "metadata": {},
     "output_type": "execute_result"
    }
   ],
   "source": [
    "#Username with the highest amount spent\n",
    "#Retrieve Item ID, Item Name, and Item Price columns\n",
    "top_spenders = purchase_data.loc[:, [\"SN\", \"Item Name\", \"Price\"]]\n",
    "\n",
    "#add variables\n",
    "item_count = popular_items.groupby([\"Item ID\", \"Item Name\"]).count()[\"Price\"].rename(\"Purchase Count\")\n",
    "item_price = popular_items.groupby([\"Item ID\", \"Item Name\"])[\"Price\"]\n",
    "total_items_purchased = popular_items.groupby([\"Item ID\", \"Item Name\"]).sum()[\"Price\"].rename(\"Total Purchase Value\")\n",
    "\n",
    "total_items_purchased"
   ]
  },
  {
   "cell_type": "markdown",
   "metadata": {},
   "source": [
    "## Most Popular Items"
   ]
  },
  {
   "cell_type": "markdown",
   "metadata": {},
   "source": [
    "* Retrieve the Item ID, Item Name, and Item Price columns\n",
    "\n",
    "\n",
    "* Group by Item ID and Item Name. Perform calculations to obtain purchase count, item price, and total purchase value\n",
    "\n",
    "\n",
    "* Create a summary data frame to hold the results\n",
    "\n",
    "\n",
    "* Sort the purchase count column in descending order\n",
    "\n",
    "\n",
    "* Optional: give the displayed data cleaner formatting\n",
    "\n",
    "\n",
    "* Display a preview of the summary data frame\n",
    "\n"
   ]
  },
  {
   "cell_type": "code",
   "execution_count": 14,
   "metadata": {},
   "outputs": [
    {
     "data": {
      "text/html": [
       "<div>\n",
       "<style scoped>\n",
       "    .dataframe tbody tr th:only-of-type {\n",
       "        vertical-align: middle;\n",
       "    }\n",
       "\n",
       "    .dataframe tbody tr th {\n",
       "        vertical-align: top;\n",
       "    }\n",
       "\n",
       "    .dataframe thead th {\n",
       "        text-align: right;\n",
       "    }\n",
       "</style>\n",
       "<table border=\"1\" class=\"dataframe\">\n",
       "  <thead>\n",
       "    <tr style=\"text-align: right;\">\n",
       "      <th></th>\n",
       "      <th>Item ID</th>\n",
       "      <th>Item Name</th>\n",
       "      <th>Price</th>\n",
       "    </tr>\n",
       "  </thead>\n",
       "  <tbody>\n",
       "    <tr>\n",
       "      <td>0</td>\n",
       "      <td>108</td>\n",
       "      <td>Extraction, Quickblade Of Trembling Hands</td>\n",
       "      <td>3.53</td>\n",
       "    </tr>\n",
       "    <tr>\n",
       "      <td>1</td>\n",
       "      <td>143</td>\n",
       "      <td>Frenzied Scimitar</td>\n",
       "      <td>1.56</td>\n",
       "    </tr>\n",
       "    <tr>\n",
       "      <td>2</td>\n",
       "      <td>92</td>\n",
       "      <td>Final Critic</td>\n",
       "      <td>4.88</td>\n",
       "    </tr>\n",
       "    <tr>\n",
       "      <td>3</td>\n",
       "      <td>100</td>\n",
       "      <td>Blindscythe</td>\n",
       "      <td>3.27</td>\n",
       "    </tr>\n",
       "    <tr>\n",
       "      <td>4</td>\n",
       "      <td>131</td>\n",
       "      <td>Fury</td>\n",
       "      <td>1.44</td>\n",
       "    </tr>\n",
       "    <tr>\n",
       "      <td>...</td>\n",
       "      <td>...</td>\n",
       "      <td>...</td>\n",
       "      <td>...</td>\n",
       "    </tr>\n",
       "    <tr>\n",
       "      <td>775</td>\n",
       "      <td>60</td>\n",
       "      <td>Wolf</td>\n",
       "      <td>3.54</td>\n",
       "    </tr>\n",
       "    <tr>\n",
       "      <td>776</td>\n",
       "      <td>164</td>\n",
       "      <td>Exiled Doomblade</td>\n",
       "      <td>1.63</td>\n",
       "    </tr>\n",
       "    <tr>\n",
       "      <td>777</td>\n",
       "      <td>67</td>\n",
       "      <td>Celeste, Incarnation of the Corrupted</td>\n",
       "      <td>3.46</td>\n",
       "    </tr>\n",
       "    <tr>\n",
       "      <td>778</td>\n",
       "      <td>101</td>\n",
       "      <td>Final Critic</td>\n",
       "      <td>4.19</td>\n",
       "    </tr>\n",
       "    <tr>\n",
       "      <td>779</td>\n",
       "      <td>50</td>\n",
       "      <td>Dawn</td>\n",
       "      <td>4.60</td>\n",
       "    </tr>\n",
       "  </tbody>\n",
       "</table>\n",
       "<p>780 rows × 3 columns</p>\n",
       "</div>"
      ],
      "text/plain": [
       "     Item ID                                  Item Name  Price\n",
       "0        108  Extraction, Quickblade Of Trembling Hands   3.53\n",
       "1        143                          Frenzied Scimitar   1.56\n",
       "2         92                               Final Critic   4.88\n",
       "3        100                                Blindscythe   3.27\n",
       "4        131                                       Fury   1.44\n",
       "..       ...                                        ...    ...\n",
       "775       60                                       Wolf   3.54\n",
       "776      164                           Exiled Doomblade   1.63\n",
       "777       67      Celeste, Incarnation of the Corrupted   3.46\n",
       "778      101                               Final Critic   4.19\n",
       "779       50                                       Dawn   4.60\n",
       "\n",
       "[780 rows x 3 columns]"
      ]
     },
     "execution_count": 14,
     "metadata": {},
     "output_type": "execute_result"
    }
   ],
   "source": [
    "#Retrieve Item ID, Item Name, and Item Price columns\n",
    "popular_items = purchase_data.loc[:, [\"Item ID\", \"Item Name\", \"Price\"]]\n",
    "\n",
    "#add variables\n",
    "item_count = popular_items.groupby([\"Item ID\", \"Item Name\"]).count()[\"Price\"].rename(\"Purchase Count\")\n",
    "item_price = popular_items.groupby([\"Item ID\", \"Item Name\"]).sum()[\"Price\"]\n",
    "total_items_purchased = popular_items.groupby([\"Item ID\", \"Item Name\"]).sum()[\"Price\"].rename(\"Total Purchase Value\")\n",
    "popular_items"
   ]
  },
  {
   "cell_type": "code",
   "execution_count": null,
   "metadata": {},
   "outputs": [],
   "source": [
    "popular_items_sorted = item_count.sort_values(a)\n",
    "#popular_items_sorted[\"Purchase Count\"] = popular_items_sorted[\"Purchase Count\"]=\n",
    "\n",
    "popular_items_sorted"
   ]
  },
  {
   "cell_type": "code",
   "execution_count": null,
   "metadata": {},
   "outputs": [],
   "source": [
    "popular_items = pd.DataFrame(\n",
    "    {\"Purchase Count\": item_count,\n",
    "     \"Item Price\": item_price,\n",
    "     \"Total Purchase Value\": total_items_purchased * item_count\n",
    "     })\n",
    "popular_items"
   ]
  },
  {
   "cell_type": "code",
   "execution_count": null,
   "metadata": {},
   "outputs": [],
   "source": [
    "popular_items  = popular_items[\"Item Price\"].map(\"${:,.2f}\".format)\n",
    "popular_items[\"Total Purchase Value\"] = popular_items[\"Total Purchase Value\"].map(\"${:,.2f}\".format)\n",
    "popular_items"
   ]
  },
  {
   "cell_type": "code",
   "execution_count": null,
   "metadata": {},
   "outputs": [],
   "source": [
    "popular_items_final = popular_items_sorted.loc[:, [\"Purchase Count\", \"Item Price\", \"Total Purchase Value\"]]\n",
    "popular_items_final.head()"
   ]
  },
  {
   "cell_type": "markdown",
   "metadata": {},
   "source": [
    "## Most Profitable Items"
   ]
  },
  {
   "cell_type": "markdown",
   "metadata": {},
   "source": [
    "* Sort the above table by total purchase value in descending order\n",
    "\n",
    "\n",
    "* Optional: give the displayed data cleaner formatting\n",
    "\n",
    "\n",
    "* Display a preview of the data frame\n",
    "\n"
   ]
  },
  {
   "cell_type": "code",
   "execution_count": null,
   "metadata": {
    "scrolled": true
   },
   "outputs": [],
   "source": [
    "mylist = [1, 2, 3]\n",
    "def myfunc(x):\n",
    "    return mylist[x]\n",
    "\n",
    "myfunc(1)"
   ]
  },
  {
   "cell_type": "code",
   "execution_count": null,
   "metadata": {},
   "outputs": [],
   "source": []
  }
 ],
 "metadata": {
  "anaconda-cloud": {},
  "kernel_info": {
   "name": "python3"
  },
  "kernelspec": {
   "display_name": "Python 3",
   "language": "python",
   "name": "python3"
  },
  "language_info": {
   "codemirror_mode": {
    "name": "ipython",
    "version": 3
   },
   "file_extension": ".py",
   "mimetype": "text/x-python",
   "name": "python",
   "nbconvert_exporter": "python",
   "pygments_lexer": "ipython3",
   "version": "3.6.9"
  },
  "latex_envs": {
   "LaTeX_envs_menu_present": true,
   "autoclose": false,
   "autocomplete": true,
   "bibliofile": "biblio.bib",
   "cite_by": "apalike",
   "current_citInitial": 1,
   "eqLabelWithNumbers": true,
   "eqNumInitial": 1,
   "hotkeys": {
    "equation": "Ctrl-E",
    "itemize": "Ctrl-I"
   },
   "labels_anchors": false,
   "latex_user_defs": false,
   "report_style_numbering": false,
   "user_envs_cfg": false
  },
  "nteract": {
   "version": "0.2.0"
  }
 },
 "nbformat": 4,
 "nbformat_minor": 2
}
